{
 "cells": [
  {
   "cell_type": "markdown",
   "metadata": {},
   "source": [
    "## Evaluate a single prediction agains ground truth"
   ]
  },
  {
   "cell_type": "code",
   "execution_count": 62,
   "metadata": {},
   "outputs": [],
   "source": [
    "import os\n",
    "import matplotlib.pyplot as plt\n",
    "import numpy as np"
   ]
  },
  {
   "cell_type": "code",
   "execution_count": 48,
   "metadata": {},
   "outputs": [],
   "source": [
    "# Sample HTML code\n",
    "f = open(os.path.expanduser(\"~/Downloads/pdf2charinfo/samples/FinalTest/13/output2.html\"))\n",
    "pred = f.read()\n",
    "g = open(os.path.expanduser(\"~/Downloads/pdf2charinfo/samples/FinalTest/13/13.html\"))\n",
    "true = g.read()\n",
    "\n"
   ]
  },
  {
   "cell_type": "code",
   "execution_count": 67,
   "metadata": {},
   "outputs": [
    {
     "name": "stdout",
     "output_type": "stream",
     "text": [
      "[1.0, 0.925, 0.8943089430894309, 0.8846153846153846, 1.0, 1.0, 1.0, 0.9, 0.9459459459459459, 1.0, 0.972972972972973, 0.9411764705882353, 0.9428571428571428, 0.6346153846153846, 1.0, 1.0, 0.8698630136986302, 0.8378378378378378, 0.9210526315789473, 0.8846153846153846, 0.966542750929368, 0.9047619047619048, 0.8214285714285714, 0.9836065573770492, 0.8529411764705882, 0.9661016949152542, 0.8229166666666666, 0.8142857142857143, 0.9607843137254902, 0.7076923076923076, 0.9459459459459459, 0.9367088607594937, 0.537037037037037, 0.5714285714285714]\n",
      "0.8925600937011549\n"
     ]
    },
    {
     "data": {
      "image/png": "[encoded data removed]",
      "text/plain": [
       "<Figure size 432x288 with 1 Axes>"
      ]
     },
     "metadata": {
      "needs_background": "light"
     },
     "output_type": "display_data"
    }
   ],
   "source": [
    "from metric import TEDS\n",
    "teds = TEDS()\n",
    "# Initialize TEDS object\n",
    "ans = []\n",
    "for i in range(1,38):\n",
    "    # Evaluate\n",
    "    try:\n",
    "        f = open(os.path.expanduser(\"~/Downloads/pdf2charinfo/samples/FinalTest/\"+str(i)+\"/output2.html\"))\n",
    "        pred = f.read()\n",
    "        f.close()\n",
    "        g = open(os.path.expanduser(\"~/Downloads/pdf2charinfo/samples/FinalTest/\"+str(i)+\"/\"+str(i)+\"_noh.html\"))\n",
    "        true = g.read()\n",
    "        g.close()\n",
    "        score = teds.structevaluate(pred, true)\n",
    "        ans+= [score]\n",
    "    except:\n",
    "        pass\n",
    "print(ans)\n",
    "plt.plot(ans)\n",
    "print(np.mean(ans))"
   ]
  },
  {
   "cell_type": "markdown",
   "metadata": {},
   "source": [
    "## Batch evaluation with parallel threads"
   ]
  },
  {
   "cell_type": "code",
   "execution_count": 7,
   "metadata": {},
   "outputs": [],
   "source": [
    "import json\n",
    "import pprint\n",
    "from metric import TEDS"
   ]
  },
  {
   "cell_type": "code",
   "execution_count": 8,
   "metadata": {},
   "outputs": [],
   "source": [
    "# Load sample ground truth and predictions\n",
    "with open('sample_pred.json') as fp:\n",
    "    pred_json = json.load(fp)\n",
    "with open('sample_gt.json') as fp:\n",
    "    true_json = json.load(fp)"
   ]
  },
  {
   "cell_type": "code",
   "execution_count": 9,
   "metadata": {},
   "outputs": [
    {
     "name": "stderr",
     "output_type": "stream",
     "text": [
      "100%|██████████| 19.0/19.0 [00:10<00:00, 1.50s/it]\n",
      "19it [00:00, 112400.25it/s]"
     ]
    },
    {
     "name": "stdout",
     "output_type": "stream",
     "text": [
      "{'PMC2094709_004_00.png': 1.0,\n",
      " 'PMC2871264_002_00.png': 1.0,\n",
      " 'PMC2915972_003_00.png': 0.9298260149130074,\n",
      " 'PMC3160368_005_00.png': 0.994615695248351,\n",
      " 'PMC3568059_003_00.png': 0.9609420535891124,\n",
      " 'PMC3707453_006_00.png': 0.8538903625110521,\n",
      " 'PMC3765162_003_01.png': 0.9867342100509474,\n",
      " 'PMC3872294_001_00.png': 0.9863636363636363,\n",
      " 'PMC4196076_004_00.png': 0.9958653089334908,\n",
      " 'PMC4219599_004_00.png': 0.6029978075326913,\n",
      " 'PMC4297392_007_00.png': 0.8070175438596492,\n",
      " 'PMC4311460_007_00.png': 0.6576923076923077,\n",
      " 'PMC4357206_002_00.png': 0.9295181638546892,\n",
      " 'PMC4445578_009_01.png': 0.6754965084868096,\n",
      " 'PMC4969833_016_01.png': 1.0,\n",
      " 'PMC5303243_003_00.png': 0.6494374120956399,\n",
      " 'PMC5451934_004_00.png': 0.9978213507625272,\n",
      " 'PMC5755158_010_01.png': 1.0,\n",
      " 'PMC5849724_006_00.png': 0.9653439200120101,\n",
      " 'PMC6022086_007_00.png': 1.0}\n"
     ]
    },
    {
     "name": "stderr",
     "output_type": "stream",
     "text": [
      "\n"
     ]
    }
   ],
   "source": [
    "# Initialize TEDS object, using 4 parallel threads\n",
    "teds = TEDS(n_jobs=4)\n",
    "# Evaluate\n",
    "scores = teds.batch_evaluate(pred_json, true_json)\n",
    "# Print results\n",
    "pp = pprint.PrettyPrinter()\n",
    "pp.pprint(scores)"
   ]
  }
 ],
 "metadata": {
  "kernelspec": {
   "display_name": "Python 3",
   "language": "python",
   "name": "python3"
  },
  "language_info": {
   "codemirror_mode": {
    "name": "ipython",
    "version": 3
   },
   "file_extension": ".py",
   "mimetype": "text/x-python",
   "name": "python",
   "nbconvert_exporter": "python",
   "pygments_lexer": "ipython3",
   "version": "3.7.7"
  }
 },
 "nbformat": 4,
 "nbformat_minor": 2
}
